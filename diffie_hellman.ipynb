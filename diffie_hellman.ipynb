{
 "cells": [
  {
   "cell_type": "code",
   "execution_count": 17,
   "id": "fba3b77c-9b4a-45da-9039-52c7ed40e396",
   "metadata": {},
   "outputs": [],
   "source": [
    "# pip install cryptography"
   ]
  },
  {
   "cell_type": "code",
   "execution_count": 18,
   "id": "12ec4974-f9a7-43cd-bf31-3a38b773cca2",
   "metadata": {},
   "outputs": [],
   "source": [
    "# pip install Crypto"
   ]
  },
  {
   "cell_type": "code",
   "execution_count": 19,
   "id": "ed1170f4-b1cb-45a4-b4cf-f2026e6ddaed",
   "metadata": {},
   "outputs": [],
   "source": [
    "import base64\n",
    "\n",
    "from cryptography.hazmat.primitives import serialization,hashes\n",
    "from cryptography.hazmat.primitives.asymmetric.x25519 import X25519PrivateKey\n",
    "from cryptography.hazmat.primitives.asymmetric.ed25519 import \\\n",
    "        Ed25519PublicKey, Ed25519PrivateKey\n",
    "from cryptography.hazmat.primitives.kdf.hkdf import HKDF\n",
    "from cryptography.hazmat.backends import default_backend\n",
    "\n",
    "# from Crypto.Cipher import AES"
   ]
  },
  {
   "cell_type": "code",
   "execution_count": 20,
   "id": "9c3b71d4-eaa1-4a59-ab71-63a1f5fc0a78",
   "metadata": {},
   "outputs": [],
   "source": [
    "# pip install pycryptodome"
   ]
  },
  {
   "cell_type": "code",
   "execution_count": 21,
   "id": "099c35a4-4f68-4da6-8839-465bfad0c2a8",
   "metadata": {},
   "outputs": [],
   "source": [
    "# pip install pycryptodome==3.4.3"
   ]
  },
  {
   "cell_type": "code",
   "execution_count": 22,
   "id": "9ee2778f-0335-459e-aa91-4c5208950c88",
   "metadata": {},
   "outputs": [],
   "source": [
    "# from Crypto.Cipher import AES"
   ]
  },
  {
   "cell_type": "code",
   "execution_count": 23,
   "id": "32eef8bb-894e-4b18-b9a8-a71ed557ecbd",
   "metadata": {},
   "outputs": [
    {
     "name": "stdout",
     "output_type": "stream",
     "text": [
      "Requirement already satisfied: pycryptodomex in c:\\users\\91907\\anaconda3\\lib\\site-packages (3.20.0)\n",
      "Note: you may need to restart the kernel to use updated packages.\n"
     ]
    }
   ],
   "source": [
    "pip install pycryptodomex \n"
   ]
  },
  {
   "cell_type": "code",
   "execution_count": 24,
   "id": "70e6954b-4f51-4d37-a4cb-932a653b079d",
   "metadata": {},
   "outputs": [],
   "source": [
    "from Cryptodome.Cipher import AES "
   ]
  },
  {
   "cell_type": "code",
   "execution_count": 25,
   "id": "fa5f19b5-6d4d-4219-9dff-a810c805f94c",
   "metadata": {},
   "outputs": [],
   "source": [
    "def b64(msg):\n",
    "    #base64 encoding helper function\n",
    "    return base64.encodebytes(msg).decode('utf-8').strip()"
   ]
  },
  {
   "cell_type": "code",
   "execution_count": 26,
   "id": "a89b6c5a-365e-403c-b515-fd7b98086eed",
   "metadata": {},
   "outputs": [],
   "source": [
    "def hkdf(inp,len):\n",
    "    #using hashed message authenication code(HMAC) based key derivation function(KDF) to obtain the key from an input\n",
    "    hkdf = HKDF(algorithm=hashes.SHA256(),length=len,salt=b'',info=b'',backend=default_backend())\n",
    "    return hkdf.derive(inp)"
   ]
  },
  {
   "cell_type": "code",
   "execution_count": 27,
   "id": "10078e1a-1333-491b-b970-adcb25eeab70",
   "metadata": {},
   "outputs": [],
   "source": [
    "class Bob(object):\n",
    "    def __init__(self):\n",
    "        #X25519 is an elliptical curve used to obtain cryptographic keys\n",
    "        #IKb is the long term identity key of Bob\n",
    "        self.IKb=X25519PrivateKey.generate()\n",
    "        #SPKb is the signed pre key of Bob.The public key is uploaded to the server alongwith the signature using Bob's identity key,therefore proving Bob\n",
    "        # has access to the private key\n",
    "        self.SPKb=X25519PrivateKey.generate()\n",
    "        #OPKb is the one time pre keys. Each ones public keys are published on the server.When wants to communicate with Bob it is fetched by him,then \n",
    "        #deleted from the server\n",
    "        self.OPKb=X25519PrivateKey.generate()\n",
    "\n",
    "    def x3dh(self,alice):\n",
    "        #first DH key exchange between Bob's Signed pre key and Alice's Identity key.\n",
    "        dh1 = self.SPKb.exchange(alice.IKa.public_key())\n",
    "        #second DH key exchange between Bob's Identity Key and Alice's Ephemeral Key.\n",
    "        #The first two DH key exchanges are for mutual authentication.\n",
    "        dh2 = self.IKb.exchange(alice.EKa.public_key())\n",
    "        #third DH key exchange between Bob's One time pre key and Alice's ephemeral key.\n",
    "        dh3 = self.OPKb.exchange(alice.EKa.public_key())\n",
    "        #forth DH key exchange between Bob's Signed pre key and Alice's ephemeral key.\n",
    "        dh4 = self.SPKb.exchange(alice.EKa.public_key())\n",
    "\n",
    "        #Creation of the shared key by concatenating the four DH keys and applying HKDF on it\n",
    "        self.sk=hkdf(dh1+dh2+dh3+dh4,32)\n",
    "        print(f'[Bob] shared key: {b64(self.sk)}')\n",
    "        "
   ]
  },
  {
   "cell_type": "code",
   "execution_count": 28,
   "id": "3e8d3302-d321-462a-911d-ee44f4fc87e1",
   "metadata": {},
   "outputs": [],
   "source": [
    "class Alice(object):\n",
    "    #description of all are the same as the ones for Bob\n",
    "    def __init__(self):\n",
    "        self.IKa=X25519PrivateKey.generate()\n",
    "        self.EKa = X25519PrivateKey.generate()\n",
    "\n",
    "    def x3dh(self,bob):\n",
    "        dh1 = self.IKa.exchange(bob.SPKb.public_key())\n",
    "        dh2 = self.EKa.exchange(bob.IKb.public_key())\n",
    "        dh3 = self.EKa.exchange(bob.OPKb.public_key())\n",
    "        dh4 = self.EKa.exchange(bob.SPKb.public_key())\n",
    "\n",
    "        self.sk = hkdf(dh1+dh2+dh3+dh4,32)\n",
    "        print(f'[Alice] shared key: {b64(self.sk)}')"
   ]
  },
  {
   "cell_type": "code",
   "execution_count": 29,
   "id": "3e60b2d1-5101-4990-9d33-5b62cbd855e5",
   "metadata": {},
   "outputs": [
    {
     "name": "stdout",
     "output_type": "stream",
     "text": [
      "[Alice] shared key: jHRJ7lagAAkniz7YBHYu4trXbRFMOaJPv8Jd785EBdI=\n",
      "[Bob] shared key: jHRJ7lagAAkniz7YBHYu4trXbRFMOaJPv8Jd785EBdI=\n"
     ]
    }
   ],
   "source": [
    "alice = Alice()\n",
    "bob = Bob()\n",
    "\n",
    "alice.x3dh(bob)\n",
    "\n",
    "bob.x3dh(alice)"
   ]
  },
  {
   "cell_type": "code",
   "execution_count": null,
   "id": "94a0422f-6844-461b-9777-799230b35956",
   "metadata": {},
   "outputs": [],
   "source": []
  }
 ],
 "metadata": {
  "kernelspec": {
   "display_name": "Python 3 (ipykernel)",
   "language": "python",
   "name": "python3"
  },
  "language_info": {
   "codemirror_mode": {
    "name": "ipython",
    "version": 3
   },
   "file_extension": ".py",
   "mimetype": "text/x-python",
   "name": "python",
   "nbconvert_exporter": "python",
   "pygments_lexer": "ipython3",
   "version": "3.11.7"
  }
 },
 "nbformat": 4,
 "nbformat_minor": 5
}
