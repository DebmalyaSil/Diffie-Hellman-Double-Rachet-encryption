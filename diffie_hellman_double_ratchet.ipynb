{
 "cells": [
  {
   "cell_type": "code",
   "execution_count": 132,
   "id": "4432a279-d45a-4b2f-a7f6-0efecb121db1",
   "metadata": {},
   "outputs": [],
   "source": [
    "import base64\n",
    "\n",
    "from cryptography.hazmat.primitives import serialization,hashes\n",
    "from cryptography.hazmat.primitives.asymmetric.x25519 import X25519PrivateKey\n",
    "from cryptography.hazmat.primitives.asymmetric.ed25519 import \\\n",
    "        Ed25519PublicKey, Ed25519PrivateKey\n",
    "from cryptography.hazmat.primitives.kdf.hkdf import HKDF\n",
    "from cryptography.hazmat.backends import default_backend\n"
   ]
  },
  {
   "cell_type": "code",
   "execution_count": 133,
   "id": "3df84dcf-5293-4191-8329-c46c6b421269",
   "metadata": {},
   "outputs": [],
   "source": [
    "from Cryptodome.Cipher import AES\n"
   ]
  },
  {
   "cell_type": "code",
   "execution_count": 134,
   "id": "1decb341-ce41-4626-a418-4483b44b826d",
   "metadata": {},
   "outputs": [],
   "source": [
    "def b64(msg):\n",
    "    #base64 encoding helper function\n",
    "    return base64.encodebytes(msg).decode('utf-8').strip()"
   ]
  },
  {
   "cell_type": "code",
   "execution_count": 135,
   "id": "2b71bbee-673d-4db5-87ab-35f4264403a5",
   "metadata": {},
   "outputs": [],
   "source": [
    "def hkdf(inp,len):\n",
    "    #using hashed message authenication code(HMAC) based key derivation function(KDF) to obtain the key from an input\n",
    "    hkdf = HKDF(algorithm=hashes.SHA256(),length=len,salt=b'',info=b'',backend=default_backend())\n",
    "    return hkdf.derive(inp)"
   ]
  },
  {
   "cell_type": "code",
   "execution_count": 136,
   "id": "6ee9d3c3-0c1c-4fab-a1ce-31b1c047ad94",
   "metadata": {},
   "outputs": [],
   "source": [
    "class SymmRatchet(object):\n",
    "    def __init__(self,key):\n",
    "        self.state = key\n",
    "\n",
    "    def next(self,inp=b''):\n",
    "        output = hkdf(self.state+inp,80)\n",
    "        self.state = output[:32]\n",
    "        outkey,iv=output[32:64],output[64:]\n",
    "        return outkey,iv"
   ]
  },
  {
   "cell_type": "code",
   "execution_count": 137,
   "id": "95764f10-a39f-49c6-8b75-42da9b1909c6",
   "metadata": {},
   "outputs": [],
   "source": [
    "class Bob(object):\n",
    "    def __init__(self):\n",
    "        self.IKb = X25519PrivateKey.generate()\n",
    "        self.SPKb = X25519PrivateKey.generate()\n",
    "        self.OPKb = X25519PrivateKey.generate()\n",
    "        self.dhratchet = X25519PrivateKey.generate()\n",
    "\n",
    "    def x3dh(self, alice):\n",
    "        dh1 = self.SPKb.exchange(alice.IKa.public_key())\n",
    "        dh2 = self.IKb.exchange(alice.EKa.public_key())\n",
    "        dh3 = self.OPKb.exchange(alice.EKa.public_key())\n",
    "        dh4 = self.SPKb.exchange(alice.EKa.public_key())\n",
    "        self.sk = hkdf(dh1 + dh2 + dh3 + dh4, 32)\n",
    "        print('[Bob] shared key:', b64(self.sk))\n",
    "\n",
    "    def init_ratchet(self):\n",
    "        self.root_ratchet = SymmRatchet(self.sk)\n",
    "        self.recv_ratchet = SymmRatchet(self.root_ratchet.next()[0])\n",
    "        self.send_ratchet = SymmRatchet(self.root_ratchet.next()[0])\n",
    "\n",
    "    def dh_ratchet(self, alice_public):\n",
    "        dh_recv = self.dhratchet.exchange(alice_public)\n",
    "        shared_recv = self.root_ratchet.next(dh_recv)[0]\n",
    "        self.recv_ratchet = SymmRatchet(shared_recv)\n",
    "        print('[Bob] shared recv seed:', b64(shared_recv))\n",
    "\n",
    "        self.dhratchet = X25519PrivateKey.generate()\n",
    "        dh_send = self.dhratchet.exchange(alice_public)\n",
    "        shared_send = self.root_ratchet.next(dh_send)[0]\n",
    "        self.send_ratchet = SymmRatchet(shared_send)\n",
    "        print('[Bob] shared send seed:', b64(shared_send))\n",
    "\n",
    "    def send(self, alice, msg):\n",
    "        key, iv = self.send_ratchet.next()\n",
    "        cipher = AES.new(key, AES.MODE_CBC, iv).encrypt(pad(msg))\n",
    "        print('[Bob] Sending cipher text to Alice:', b64(cipher))\n",
    "        alice.recv(cipher, self.dhratchet.public_key())\n",
    "\n",
    "    def recv(self, cipher, alice_public_key):\n",
    "        self.dh_ratchet(alice_public_key)\n",
    "        key, iv = self.recv_ratchet.next()\n",
    "        msg = unpad(AES.new(key, AES.MODE_CBC, iv).decrypt(cipher))\n",
    "        print('[Bob] Decrypted message:', msg)\n"
   ]
  },
  {
   "cell_type": "code",
   "execution_count": 138,
   "id": "99518bd5-9ca6-45e8-b820-228d673ff92c",
   "metadata": {},
   "outputs": [],
   "source": [
    "class Alice(object):\n",
    "    def __init__(self):\n",
    "        self.IKa = X25519PrivateKey.generate()\n",
    "        self.EKa = X25519PrivateKey.generate()\n",
    "        self.dhratchet = None\n",
    "\n",
    "    def x3dh(self, bob):\n",
    "        dh1 = self.IKa.exchange(bob.SPKb.public_key())\n",
    "        dh2 = self.EKa.exchange(bob.IKb.public_key())\n",
    "        dh3 = self.EKa.exchange(bob.OPKb.public_key())\n",
    "        dh4 = self.EKa.exchange(bob.SPKb.public_key())\n",
    "        self.sk = hkdf(dh1 + dh2 + dh3 + dh4, 32)\n",
    "        print('[Alice] shared key:', b64(self.sk))\n",
    "\n",
    "    def init_ratchet(self):\n",
    "        self.root_ratchet = SymmRatchet(self.sk)\n",
    "        self.send_ratchet = SymmRatchet(self.root_ratchet.next()[0])\n",
    "        self.recv_ratchet = SymmRatchet(self.root_ratchet.next()[0])\n",
    "\n",
    "    def dh_ratchet(self, bob_public):\n",
    "        if self.dhratchet is not None:\n",
    "            dh_recv = self.dhratchet.exchange(bob_public)\n",
    "            shared_recv = self.root_ratchet.next(dh_recv)[0]\n",
    "            self.recv_ratchet = SymmRatchet(shared_recv)\n",
    "            print('[Alice] shared recv seed:', b64(shared_recv))\n",
    "\n",
    "        self.dhratchet = X25519PrivateKey.generate()\n",
    "        dh_send = self.dhratchet.exchange(bob_public)\n",
    "        shared_send = self.root_ratchet.next(dh_send)[0]\n",
    "        self.send_ratchet = SymmRatchet(shared_send)\n",
    "        print('[Alice] shared send seed:', b64(shared_send))\n",
    "\n",
    "    def send(self, bob, msg):\n",
    "        key, iv = self.send_ratchet.next()\n",
    "        cipher = AES.new(key, AES.MODE_CBC, iv).encrypt(pad(msg))\n",
    "        print('[Alice] Sending cipher text to Bob:', b64(cipher))\n",
    "        bob.recv(cipher, self.dhratchet.public_key())\n",
    "\n",
    "    def recv(self, cipher, bob_public_key):\n",
    "        self.dh_ratchet(bob_public_key)\n",
    "        key, iv = self.recv_ratchet.next()\n",
    "        msg = unpad(AES.new(key, AES.MODE_CBC, iv).decrypt(cipher))\n",
    "        print('[Alice] Decrypted message:', msg)"
   ]
  },
  {
   "cell_type": "code",
   "execution_count": 139,
   "id": "40e3a19d-5e53-4c64-b1bd-184f2581b0ba",
   "metadata": {},
   "outputs": [],
   "source": [
    "def pad(msg):\n",
    "    num = (16 - (len(msg) % 16))\n",
    "    return msg + bytes([num] * num)\n"
   ]
  },
  {
   "cell_type": "code",
   "execution_count": 140,
   "id": "abe1a725-cac9-4f19-813c-3e51c430db55",
   "metadata": {},
   "outputs": [],
   "source": [
    "def unpad(cipher):\n",
    "    return cipher[:-cipher[-1]]"
   ]
  },
  {
   "cell_type": "code",
   "execution_count": null,
   "id": "3cd3b698-3f7b-4d3b-b718-7ac53b64a8f5",
   "metadata": {},
   "outputs": [],
   "source": []
  },
  {
   "cell_type": "code",
   "execution_count": 141,
   "id": "8250db08-a7af-47a1-9fed-5615c226e034",
   "metadata": {},
   "outputs": [
    {
     "name": "stdout",
     "output_type": "stream",
     "text": [
      "[Alice] shared key: DOhPp2QWyRGya9dcvVqa2iMMAIah3eGz1vMPSzorlbg=\n",
      "[Bob] shared key: DOhPp2QWyRGya9dcvVqa2iMMAIah3eGz1vMPSzorlbg=\n",
      "[Alice] shared send seed: G0/T1hHCr5DSn95vnr8Pvd1L9KLrMdX62poWKhPm8Ps=\n"
     ]
    }
   ],
   "source": [
    "alice = Alice()\n",
    "bob = Bob()\n",
    "\n",
    "alice.x3dh(bob)\n",
    "bob.x3dh(alice)\n",
    "\n",
    "alice.init_ratchet()\n",
    "bob.init_ratchet()\n",
    "\n",
    "alice.dh_ratchet(bob.dhratchet.public_key())"
   ]
  },
  {
   "cell_type": "code",
   "execution_count": 142,
   "id": "e7b6a2d5-0da4-41c9-a2cc-fcd5e6854693",
   "metadata": {},
   "outputs": [
    {
     "name": "stdout",
     "output_type": "stream",
     "text": [
      "[Alice] Sending cipher text to Bob: WObd+LTGi4YgFTacINAlDA==\n",
      "[Bob] shared recv seed: G0/T1hHCr5DSn95vnr8Pvd1L9KLrMdX62poWKhPm8Ps=\n",
      "[Bob] shared send seed: ZlGFR46Uq7lQFk1NMdeQD1mijP5lb1VbDStCXliIyYk=\n",
      "[Bob] Decrypted message: b'Hello Bob!'\n",
      "[Bob] Sending cipher text to Alice: +rEUyKZ10YSWQCxMQyaO3upNNk/p3hCqiD2DceniAVk=\n",
      "[Alice] shared recv seed: ZlGFR46Uq7lQFk1NMdeQD1mijP5lb1VbDStCXliIyYk=\n",
      "[Alice] shared send seed: Mlm32NXi1hSAh7GZEhWXoC/OHbj48gLF/D9HWOrpnqQ=\n",
      "[Alice] Decrypted message: b'Hello Alice!! How are you ?'\n"
     ]
    }
   ],
   "source": [
    "alice.send(bob,b\"Bob!\")\n",
    "\n",
    "bob.send(alice,b\"Hello Alice\")"
   ]
  },
  {
   "cell_type": "code",
   "execution_count": null,
   "id": "88ace3bd-2a4c-40d9-98f9-d679bebda8f8",
   "metadata": {},
   "outputs": [],
   "source": []
  },
  {
   "cell_type": "code",
   "execution_count": null,
   "id": "3fac6fd3-4c58-4d6e-aded-dcb45ca72f9b",
   "metadata": {},
   "outputs": [],
   "source": []
  },
  {
   "cell_type": "code",
   "execution_count": null,
   "id": "3083b097-5d13-4601-9c36-afd18317a0de",
   "metadata": {},
   "outputs": [],
   "source": []
  }
 ],
 "metadata": {
  "kernelspec": {
   "display_name": "Python 3 (ipykernel)",
   "language": "python",
   "name": "python3"
  },
  "language_info": {
   "codemirror_mode": {
    "name": "ipython",
    "version": 3
   },
   "file_extension": ".py",
   "mimetype": "text/x-python",
   "name": "python",
   "nbconvert_exporter": "python",
   "pygments_lexer": "ipython3",
   "version": "3.11.7"
  }
 },
 "nbformat": 4,
 "nbformat_minor": 5
}
