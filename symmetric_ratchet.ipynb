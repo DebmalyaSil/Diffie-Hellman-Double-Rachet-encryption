{
 "cells": [
  {
   "cell_type": "code",
   "execution_count": 46,
   "id": "c7734441-6fd0-4ff7-bc70-b794d8dac895",
   "metadata": {},
   "outputs": [],
   "source": [
    "import base64\n",
    "\n",
    "from cryptography.hazmat.primitives import serialization,hashes\n",
    "from cryptography.hazmat.primitives.asymmetric.x25519 import X25519PrivateKey\n",
    "from cryptography.hazmat.primitives.asymmetric.ed25519 import \\\n",
    "        Ed25519PublicKey, Ed25519PrivateKey\n",
    "from cryptography.hazmat.primitives.kdf.hkdf import HKDF\n",
    "from cryptography.hazmat.backends import default_backend\n"
   ]
  },
  {
   "cell_type": "code",
   "execution_count": 47,
   "id": "1a0c6043-fdd8-44b4-8dd0-a756070282ab",
   "metadata": {},
   "outputs": [],
   "source": [
    "from Cryptodome.Cipher import AES"
   ]
  },
  {
   "cell_type": "code",
   "execution_count": 48,
   "id": "b2a7564f-0cb9-4cc5-bf32-971e4f36260b",
   "metadata": {},
   "outputs": [],
   "source": [
    "def b64(msg):\n",
    "    #base64 encoding helper function\n",
    "    return base64.encodebytes(msg).decode('utf-8').strip()"
   ]
  },
  {
   "cell_type": "code",
   "execution_count": 49,
   "id": "e107f90e-24e8-4920-a6cd-0e6679045df9",
   "metadata": {},
   "outputs": [],
   "source": [
    "def hkdf(inp,len):\n",
    "    #using hashed message authenication code(HMAC) based key derivation function(KDF) to obtain the key from an input\n",
    "    hkdf = HKDF(algorithm=hashes.SHA256(),length=len,salt=b'',info=b'',backend=default_backend())\n",
    "    return hkdf.derive(inp)"
   ]
  },
  {
   "cell_type": "code",
   "execution_count": 50,
   "id": "19977b8c-1ce7-4835-8ac9-6c1987436030",
   "metadata": {},
   "outputs": [],
   "source": [
    "class Bob(object):\n",
    "    def __init__(self):\n",
    "        #X25519 is an elliptical curve used to obtain cryptographic keys\n",
    "        #IKb is the long term identity key of Bob\n",
    "        self.IKb=X25519PrivateKey.generate()\n",
    "        #SPKb is the signed pre key of Bob.The public key is uploaded to the server alongwith the signature using Bob's identity key,therefore proving Bob\n",
    "        # has access to the private key\n",
    "        self.SPKb=X25519PrivateKey.generate()\n",
    "        #OPKb is the one time pre keys. Each ones public keys are published on the server.When wants to communicate with Bob it is fetched by him,then \n",
    "        #deleted from the server\n",
    "        self.OPKb=X25519PrivateKey.generate()\n",
    "\n",
    "    def x3dh(self,alice):\n",
    "        #first DH key exchange between Bob's Signed pre key and Alice's Identity key.\n",
    "        dh1 = self.SPKb.exchange(alice.IKa.public_key())\n",
    "        #second DH key exchange between Bob's Identity Key and Alice's Ephemeral Key.\n",
    "        #The first two DH key exchanges are for mutual authentication.\n",
    "        dh2 = self.IKb.exchange(alice.EKa.public_key())\n",
    "        #third DH key exchange between Bob's One time pre key and Alice's ephemeral key.\n",
    "        dh3 = self.OPKb.exchange(alice.EKa.public_key())\n",
    "        #forth DH key exchange between Bob's Signed pre key and Alice's ephemeral key.\n",
    "        dh4 = self.SPKb.exchange(alice.EKa.public_key())\n",
    "\n",
    "        #Creation of the shared key by concatenating the four DH keys and applying HKDF on it\n",
    "        self.sk=hkdf(dh1+dh2+dh3+dh4,32)\n",
    "        print(f'[Bob] shared key: {b64(self.sk)}')\n",
    "\n",
    "    def init_ratchet(self):\n",
    "        self.root_ratchet = SymmRatchet(self.sk)\n",
    "        self.recv_ratchet = SymmRatchet(self.root_ratchet.next()[0])\n",
    "        self.send_ratchet = SymmRatchet(self.root_ratchet.next()[0])"
   ]
  },
  {
   "cell_type": "code",
   "execution_count": 51,
   "id": "063229f6-8016-4cb0-bc42-fd6c59276e90",
   "metadata": {},
   "outputs": [],
   "source": [
    "class Alice(object):\n",
    "    #description of all are the same as the ones for Bob\n",
    "    def __init__(self):\n",
    "        self.IKa=X25519PrivateKey.generate()\n",
    "        self.EKa = X25519PrivateKey.generate()\n",
    "\n",
    "    def x3dh(self,bob):\n",
    "        dh1 = self.IKa.exchange(bob.SPKb.public_key())\n",
    "        dh2 = self.EKa.exchange(bob.IKb.public_key())\n",
    "        dh3 = self.EKa.exchange(bob.OPKb.public_key())\n",
    "        dh4 = self.EKa.exchange(bob.SPKb.public_key())\n",
    "\n",
    "        self.sk = hkdf(dh1+dh2+dh3+dh4,32)\n",
    "        print(f'[Alice] shared key: {b64(self.sk)}')\n",
    "\n",
    "    def init_ratchet(self):\n",
    "        self.root_ratchet = SymmRatchet(self.sk)\n",
    "        self.send_ratchet = SymmRatchet(self.root_ratchet.next()[0])\n",
    "        self.recv_ratchet = SymmRatchet(self.root_ratchet.next()[0])"
   ]
  },
  {
   "cell_type": "code",
   "execution_count": 52,
   "id": "9340ecda-ada5-462f-bfc8-1c12e7183d7b",
   "metadata": {},
   "outputs": [],
   "source": [
    "class SymmRatchet(object):\n",
    "    def __init__(self,key):\n",
    "        self.state = key\n",
    "\n",
    "    def next(self,inp=b''):\n",
    "        output = hkdf(self.state+inp,80)\n",
    "        self.state = output[:32]\n",
    "        outkey,iv=output[32:64],output[64:]\n",
    "        return outkey,iv"
   ]
  },
  {
   "cell_type": "code",
   "execution_count": 53,
   "id": "3ff6b3ab-c002-4998-89bd-5204b4090688",
   "metadata": {},
   "outputs": [],
   "source": [
    "# class Bob(object):\n",
    "\n",
    "#     def init_ratchet(self):\n",
    "#         self.root_ratchet = SymmRatchet(self.sk)\n",
    "#         self.recv_ratchet = SymmRatchet(self.root_ratchet.next()[0])\n",
    "#         self.send_ratchet = SymmRatchet(self.root_ratchet.next()[0])"
   ]
  },
  {
   "cell_type": "code",
   "execution_count": 54,
   "id": "df57a44d-4389-4571-a6cd-b0025a24643c",
   "metadata": {},
   "outputs": [],
   "source": [
    "# class Alice(object):\n",
    "\n",
    "#     def init_ratchet(self):\n",
    "#         self.root_ratchet = SymmRatchet(self.sk)\n",
    "#         self.recv_ratchet = SymmRatchet(self.root_ratchet.next()[0])\n",
    "#         self.send_ratchet = SymmRatchet(self.root_ratchet.next()[0])"
   ]
  },
  {
   "cell_type": "code",
   "execution_count": 55,
   "id": "9ba68609-2b5c-458c-8aa7-4e36dca98843",
   "metadata": {},
   "outputs": [],
   "source": [
    "alice = Alice()\n",
    "bob = Bob()"
   ]
  },
  {
   "cell_type": "code",
   "execution_count": 56,
   "id": "10d03e79-6fbb-4974-932b-7f88faf1f903",
   "metadata": {},
   "outputs": [
    {
     "name": "stdout",
     "output_type": "stream",
     "text": [
      "[Alice] shared key: HKvgetcOY8zgCePilqPHR35acpiikxyhbFwUpk/R0xs=\n",
      "[Bob] shared key: HKvgetcOY8zgCePilqPHR35acpiikxyhbFwUpk/R0xs=\n",
      "[Alice] send ratchet: ['9sTDPRgOZunrO/U3D/9FOZfw4yysBwtMJbVxIM8bbR8=', 'vzNs4rTOvj7bEVm6J8clYw==']\n",
      "[Bob] recv ratchet: ['9sTDPRgOZunrO/U3D/9FOZfw4yysBwtMJbVxIM8bbR8=', 'vzNs4rTOvj7bEVm6J8clYw==']\n",
      "[Bob] send ratchet: ['ItLiLZpdmycouNkurRUVWFlKbo/X5hbj91mdj+uv83A=', 'edRwx6C2JL1Y/1Rd0U2ARg==']\n",
      "[Alice] recv ratchet: ['ItLiLZpdmycouNkurRUVWFlKbo/X5hbj91mdj+uv83A=', 'edRwx6C2JL1Y/1Rd0U2ARg==']\n"
     ]
    }
   ],
   "source": [
    "alice.x3dh(bob)\n",
    "bob.x3dh(alice)\n",
    "\n",
    "alice.init_ratchet()\n",
    "bob.init_ratchet()\n",
    "\n",
    "print(f'[Alice] send ratchet: {list(map(b64,alice.send_ratchet.next()))}')\n",
    "print(f'[Bob] recv ratchet: {list(map(b64,bob.recv_ratchet.next()))}')\n",
    "print(f'[Bob] send ratchet: {list(map(b64,bob.send_ratchet.next()))}')\n",
    "print(f'[Alice] recv ratchet: {list(map(b64,alice.recv_ratchet.next()))}')"
   ]
  },
  {
   "cell_type": "code",
   "execution_count": 65,
   "id": "6c1f2f5d-06d3-4725-ac0d-e78a7b988d96",
   "metadata": {},
   "outputs": [
    {
     "name": "stdout",
     "output_type": "stream",
     "text": [
      "[Alice] send ratchet: ['Jy7tBnKD5zYCi95GWV1DMjP+68qPkAxLYoq1EerN1uk=', 'al8dSpikVUaR6GgRGtd60g==']\n",
      "[Bob] recv ratchet: ['Jy7tBnKD5zYCi95GWV1DMjP+68qPkAxLYoq1EerN1uk=', 'al8dSpikVUaR6GgRGtd60g==']\n",
      "[Bob] send ratchet: ['uM/gsN/uuW/1nSQH8KyiCv//1bucEBZ4qtCI1UIAqRA=', '4k9dYhQuZqSnORhgSBnlrA==']\n",
      "[Alice] recv ratchet: ['uM/gsN/uuW/1nSQH8KyiCv//1bucEBZ4qtCI1UIAqRA=', '4k9dYhQuZqSnORhgSBnlrA==']\n"
     ]
    }
   ],
   "source": [
    "print(f'[Alice] send ratchet: {list(map(b64,alice.send_ratchet.next()))}')\n",
    "print(f'[Bob] recv ratchet: {list(map(b64,bob.recv_ratchet.next()))}')\n",
    "print(f'[Bob] send ratchet: {list(map(b64,bob.send_ratchet.next()))}')\n",
    "print(f'[Alice] recv ratchet: {list(map(b64,alice.recv_ratchet.next()))}')"
   ]
  },
  {
   "cell_type": "code",
   "execution_count": null,
   "id": "46600071-0a7b-4ec3-a49c-3e17960f3a01",
   "metadata": {},
   "outputs": [],
   "source": []
  },
  {
   "cell_type": "code",
   "execution_count": null,
   "id": "1afbd6c0-45c6-41d4-a490-732d51ef1c7d",
   "metadata": {},
   "outputs": [],
   "source": []
  }
 ],
 "metadata": {
  "kernelspec": {
   "display_name": "Python 3 (ipykernel)",
   "language": "python",
   "name": "python3"
  },
  "language_info": {
   "codemirror_mode": {
    "name": "ipython",
    "version": 3
   },
   "file_extension": ".py",
   "mimetype": "text/x-python",
   "name": "python",
   "nbconvert_exporter": "python",
   "pygments_lexer": "ipython3",
   "version": "3.11.7"
  }
 },
 "nbformat": 4,
 "nbformat_minor": 5
}
